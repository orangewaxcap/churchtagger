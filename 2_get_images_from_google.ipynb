{
 "cells": [
  {
   "cell_type": "markdown",
   "id": "bb1b8d91-5f31-4876-89e6-8aae43b4497f",
   "metadata": {},
   "source": [
    "# Downloading aerial imagery from Google"
   ]
  },
  {
   "cell_type": "markdown",
   "id": "29da4ee6-0730-4e4b-9a53-db4be81ed3ff",
   "metadata": {},
   "source": [
    "Now that we've got one pair of coordinates for each potential church, we need to get a photo of each one. We use Google's Static Maps API, which comes with free monthly credit for ~100,000 lookups per month: more than enough! We'll download the photos into a separate folder to keep things tidy."
   ]
  },
  {
   "cell_type": "code",
   "execution_count": 1,
   "id": "16d31cd8-18c1-4cb7-9275-653ed88e0d99",
   "metadata": {},
   "outputs": [],
   "source": [
    "import pandas as pd\n",
    "import requests\n",
    "import re\n",
    "import os"
   ]
  },
  {
   "cell_type": "markdown",
   "id": "e8fdcd8b-28dd-4e2b-bafe-fb379b038213",
   "metadata": {},
   "source": [
    "Now to load our API key. The ```enable_API_calls``` variable is there to stop me burning through credit if I make any mistakes..."
   ]
  },
  {
   "cell_type": "code",
   "execution_count": 2,
   "id": "59646a03-13bb-4cf7-beda-211ebb106d94",
   "metadata": {},
   "outputs": [],
   "source": [
    "with open('secrets/key.txt', 'r') as f:\n",
    "    api_key = f.read()"
   ]
  },
  {
   "cell_type": "code",
   "execution_count": 3,
   "id": "29f17c11-31b3-4e87-8373-0d9fae1ee8b2",
   "metadata": {},
   "outputs": [],
   "source": [
    "enable_API_calls = False #change when you want to run a call"
   ]
  },
  {
   "cell_type": "markdown",
   "id": "89c45fc7-972a-48c2-aef1-e6fcaa33af2f",
   "metadata": {},
   "source": [
    "Load our data and do some string manipulations to create a nice filename for the images:"
   ]
  },
  {
   "cell_type": "code",
   "execution_count": 4,
   "id": "ff5827c9-13e8-4c3c-9355-da035619bdda",
   "metadata": {},
   "outputs": [
    {
     "data": {
      "text/html": [
       "<div>\n",
       "<style scoped>\n",
       "    .dataframe tbody tr th:only-of-type {\n",
       "        vertical-align: middle;\n",
       "    }\n",
       "\n",
       "    .dataframe tbody tr th {\n",
       "        vertical-align: top;\n",
       "    }\n",
       "\n",
       "    .dataframe thead th {\n",
       "        text-align: right;\n",
       "    }\n",
       "</style>\n",
       "<table border=\"1\" class=\"dataframe\">\n",
       "  <thead>\n",
       "    <tr style=\"text-align: right;\">\n",
       "      <th></th>\n",
       "      <th>id</th>\n",
       "      <th>tags.name</th>\n",
       "      <th>tags.denomination</th>\n",
       "      <th>tags.building</th>\n",
       "      <th>lat</th>\n",
       "      <th>lon</th>\n",
       "      <th>coords_imputed</th>\n",
       "      <th>filename</th>\n",
       "    </tr>\n",
       "  </thead>\n",
       "  <tbody>\n",
       "    <tr>\n",
       "      <th>0</th>\n",
       "      <td>144164756</td>\n",
       "      <td>St Margaret and St Catherine, Aldham</td>\n",
       "      <td>anglican</td>\n",
       "      <td>NaN</td>\n",
       "      <td>51.898162</td>\n",
       "      <td>0.785737</td>\n",
       "      <td>True</td>\n",
       "      <td>st_margaret_and_st_catherine_aldham</td>\n",
       "    </tr>\n",
       "    <tr>\n",
       "      <th>1</th>\n",
       "      <td>145482410</td>\n",
       "      <td>St Michael and All Angels, Copford</td>\n",
       "      <td>anglican</td>\n",
       "      <td>NaN</td>\n",
       "      <td>51.869317</td>\n",
       "      <td>0.809385</td>\n",
       "      <td>True</td>\n",
       "      <td>st_michael_and_all_angels_copford</td>\n",
       "    </tr>\n",
       "    <tr>\n",
       "      <th>2</th>\n",
       "      <td>35139156</td>\n",
       "      <td>St. Albright's Church</td>\n",
       "      <td>anglican</td>\n",
       "      <td>NaN</td>\n",
       "      <td>51.883674</td>\n",
       "      <td>0.817888</td>\n",
       "      <td>True</td>\n",
       "      <td>st_albright_s_church</td>\n",
       "    </tr>\n",
       "    <tr>\n",
       "      <th>3</th>\n",
       "      <td>146823677</td>\n",
       "      <td>All Saints, Eight Ash Green</td>\n",
       "      <td>anglican</td>\n",
       "      <td>NaN</td>\n",
       "      <td>51.896594</td>\n",
       "      <td>0.820112</td>\n",
       "      <td>True</td>\n",
       "      <td>all_saints_eight_ash_green</td>\n",
       "    </tr>\n",
       "    <tr>\n",
       "      <th>4</th>\n",
       "      <td>913980214</td>\n",
       "      <td>Eight Ash Green Methodist Church</td>\n",
       "      <td>NaN</td>\n",
       "      <td>NaN</td>\n",
       "      <td>51.895918</td>\n",
       "      <td>0.822322</td>\n",
       "      <td>False</td>\n",
       "      <td>eight_ash_green_methodist_church</td>\n",
       "    </tr>\n",
       "  </tbody>\n",
       "</table>\n",
       "</div>"
      ],
      "text/plain": [
       "          id                             tags.name tags.denomination  \\\n",
       "0  144164756  St Margaret and St Catherine, Aldham          anglican   \n",
       "1  145482410    St Michael and All Angels, Copford          anglican   \n",
       "2   35139156                 St. Albright's Church          anglican   \n",
       "3  146823677           All Saints, Eight Ash Green          anglican   \n",
       "4  913980214      Eight Ash Green Methodist Church               NaN   \n",
       "\n",
       "  tags.building        lat       lon  coords_imputed  \\\n",
       "0           NaN  51.898162  0.785737            True   \n",
       "1           NaN  51.869317  0.809385            True   \n",
       "2           NaN  51.883674  0.817888            True   \n",
       "3           NaN  51.896594  0.820112            True   \n",
       "4           NaN  51.895918  0.822322           False   \n",
       "\n",
       "                              filename  \n",
       "0  st_margaret_and_st_catherine_aldham  \n",
       "1    st_michael_and_all_angels_copford  \n",
       "2                 st_albright_s_church  \n",
       "3           all_saints_eight_ash_green  \n",
       "4     eight_ash_green_methodist_church  "
      ]
     },
     "execution_count": 4,
     "metadata": {},
     "output_type": "execute_result"
    }
   ],
   "source": [
    "places_of_worship = pd.read_csv('places_of_worship.csv')\n",
    "places_of_worship['filename'] = places_of_worship['tags.name'].apply(lambda x: re.sub('\\W','_', x.lower()).replace('__','_'))\n",
    "places_of_worship.head()"
   ]
  },
  {
   "cell_type": "markdown",
   "id": "cbcd08a3-7285-4af8-9f1c-ad6247c681d1",
   "metadata": {},
   "source": [
    "We define a function to grab the image from the Google API. Documentation for the API is available at __https://developers.google.com/maps/documentation/maps-static/start__. 20 is a very high zoom level, and we want satellite rather than map imagery to get as much detail as possible."
   ]
  },
  {
   "cell_type": "code",
   "execution_count": 5,
   "id": "66b10820-c89f-4e81-b927-8c1f2bc7b4ba",
   "metadata": {},
   "outputs": [],
   "source": [
    "def get_image(lat, lon, path, filename, key, zoom=20, size='640x640', maptype='satellite'):\n",
    "    request_url = \"https://maps.googleapis.com/maps/api/staticmap\"\n",
    "    payload = {'center': ','.join([str(coord) for coord in [lat, lon]]),\n",
    "               'zoom': zoom,\n",
    "               'size': size,\n",
    "               'maptype': maptype,\n",
    "               'key': key\n",
    "              }\n",
    "    \n",
    "    r = requests.get(request_url, params=payload)\n",
    "    if r.status_code != 200:\n",
    "        print('[ERROR]: non-200 status code received to: {}'.format(r.url))\n",
    "    else:\n",
    "        with open(os.path.join(path, filename+'.png'), 'wb') as f:\n",
    "            f.write(r.content)"
   ]
  },
  {
   "cell_type": "markdown",
   "id": "c865d496-6df8-4e8d-98f9-1a5ada190b64",
   "metadata": {},
   "source": [
    "Finally, we go through the dataframe and grab an image for each entry, then save the updated places of worship dataframe so it includes the filenames:"
   ]
  },
  {
   "cell_type": "code",
   "execution_count": 6,
   "id": "4a08f4f7-f138-4965-bc4c-bd62d5d7ae59",
   "metadata": {},
   "outputs": [],
   "source": [
    "for place in places_of_worship.itertuples(index=False):\n",
    "    if enable_API_calls == True:\n",
    "        get_image(lat=place.lat, lon=place.lon, path='images', filename=place.filename, key=api_key)\n",
    "        \n",
    "places_of_worship.to_csv('places_of_worship.csv', index=False)"
   ]
  },
  {
   "cell_type": "markdown",
   "id": "ce24295a-240a-4fa6-8871-adf89ac23197",
   "metadata": {},
   "source": [
    "The results look like this one of St Andrew's in Fingringhoe:\n",
    "\n",
    "<img src='writeup_images/st_andrew_fingringhoe.png' />"
   ]
  },
  {
   "cell_type": "markdown",
   "id": "74f818bf-8f43-4857-ab2a-99919f8d153a",
   "metadata": {},
   "source": [
    "***"
   ]
  }
 ],
 "metadata": {
  "kernelspec": {
   "display_name": "churchtagger",
   "language": "python",
   "name": "churchtagger"
  },
  "language_info": {
   "codemirror_mode": {
    "name": "ipython",
    "version": 3
   },
   "file_extension": ".py",
   "mimetype": "text/x-python",
   "name": "python",
   "nbconvert_exporter": "python",
   "pygments_lexer": "ipython3",
   "version": "3.10.4"
  }
 },
 "nbformat": 4,
 "nbformat_minor": 5
}
