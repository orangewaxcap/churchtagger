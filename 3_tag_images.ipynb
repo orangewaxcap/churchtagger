{
 "cells": [
  {
   "cell_type": "markdown",
   "id": "f8d82812-efc7-4d8d-850f-132c351bb09f",
   "metadata": {
    "tags": []
   },
   "source": [
    "# Tagging our images: church or not church?"
   ]
  },
  {
   "cell_type": "markdown",
   "id": "b36ab728-7baa-4a05-924b-821eaf696360",
   "metadata": {},
   "source": [
    "Now that we have our overhead images, we want to inspect them and tag them based on whether they're a purpose-built church building or not. The __[PigeonXT library](https://github.com/dennisbakhuis/pigeonXT)__ library provides a straightforward way to do it in Jupyter Lab with minimal tweaking."
   ]
  },
  {
   "cell_type": "code",
   "execution_count": 1,
   "id": "1a581b40-d290-4cc5-bc46-1928cb6e791a",
   "metadata": {},
   "outputs": [],
   "source": [
    "import pandas as pd\n",
    "import pigeonXT as pixt\n",
    "from IPython.display import display, Image\n",
    "import os"
   ]
  },
  {
   "cell_type": "markdown",
   "id": "0aa50a0d-b39c-465e-9880-655d1eea5bc7",
   "metadata": {},
   "source": [
    "Load in our images:"
   ]
  },
  {
   "cell_type": "code",
   "execution_count": 2,
   "id": "353bc641-d4c4-4a2f-b425-6b63168ae08a",
   "metadata": {},
   "outputs": [
    {
     "data": {
      "text/plain": [
       "['images\\\\abbeyfield_community_church.png',\n",
       " 'images\\\\all_saints_eight_ash_green.png',\n",
       " 'images\\\\ardleigh_methodist_church.png']"
      ]
     },
     "execution_count": 2,
     "metadata": {},
     "output_type": "execute_result"
    }
   ],
   "source": [
    "candidates = [os.path.join('images',file) for file in os.listdir('images/') if file.endswith('.png')]\n",
    "candidates[0:3]"
   ]
  },
  {
   "cell_type": "markdown",
   "id": "ca885cd0-39f8-437e-aead-dabfdc837c06",
   "metadata": {},
   "source": [
    "Now we'll see if there's already an annotations file present. If there is, we can skip this step; if not, we can tag all the images. The tagging interface looks like this:\n",
    "![Image of a church with several buttons above it to select a tag: chuch, not church, unclear, prev and next.](writeup_files/image_tagging_example.PNG)"
   ]
  },
  {
   "cell_type": "code",
   "execution_count": 3,
   "id": "5d91b6b0-a525-43a7-b26c-e8cd90463b96",
   "metadata": {},
   "outputs": [],
   "source": [
    "if os.path.exists('annotations.csv'):\n",
    "    annotations = pd.read_csv('annotations.csv')\n",
    "else:\n",
    "    annotations = pixt.annotate(candidates,\n",
    "                                options=['church','not church','unclear'],\n",
    "                                display_fn=lambda candidate: display(Image(candidate))\n",
    "                               )\n",
    "    annotations.to_csv('annotations.csv', index=False)"
   ]
  },
  {
   "cell_type": "markdown",
   "id": "ecd66572-5c16-4e26-a4ec-7b97c7d84861",
   "metadata": {},
   "source": [
    "We end up with a dataframe with a handful of columns – here 21 buildings are clearly churches, and 28 are unclear. This could be resolved by a quick Google or by using Streetview imagery."
   ]
  },
  {
   "cell_type": "code",
   "execution_count": 4,
   "id": "55506eaf-92ec-4f4c-a7b7-dc532cd3a776",
   "metadata": {},
   "outputs": [
    {
     "data": {
      "text/html": [
       "<div>\n",
       "<style scoped>\n",
       "    .dataframe tbody tr th:only-of-type {\n",
       "        vertical-align: middle;\n",
       "    }\n",
       "\n",
       "    .dataframe tbody tr th {\n",
       "        vertical-align: top;\n",
       "    }\n",
       "\n",
       "    .dataframe thead th {\n",
       "        text-align: right;\n",
       "    }\n",
       "</style>\n",
       "<table border=\"1\" class=\"dataframe\">\n",
       "  <thead>\n",
       "    <tr style=\"text-align: right;\">\n",
       "      <th></th>\n",
       "      <th>example</th>\n",
       "      <th>changed</th>\n",
       "      <th>label</th>\n",
       "      <th>filename</th>\n",
       "    </tr>\n",
       "  </thead>\n",
       "  <tbody>\n",
       "    <tr>\n",
       "      <th>0</th>\n",
       "      <td>images\\abbeyfield_community_church.png</td>\n",
       "      <td>True</td>\n",
       "      <td>unclear</td>\n",
       "      <td>abbeyfield_community_church</td>\n",
       "    </tr>\n",
       "    <tr>\n",
       "      <th>1</th>\n",
       "      <td>images\\all_saints_eight_ash_green.png</td>\n",
       "      <td>True</td>\n",
       "      <td>church</td>\n",
       "      <td>all_saints_eight_ash_green</td>\n",
       "    </tr>\n",
       "    <tr>\n",
       "      <th>2</th>\n",
       "      <td>images\\ardleigh_methodist_church.png</td>\n",
       "      <td>True</td>\n",
       "      <td>unclear</td>\n",
       "      <td>ardleigh_methodist_church</td>\n",
       "    </tr>\n",
       "    <tr>\n",
       "      <th>3</th>\n",
       "      <td>images\\castle_methodist_church.png</td>\n",
       "      <td>True</td>\n",
       "      <td>unclear</td>\n",
       "      <td>castle_methodist_church</td>\n",
       "    </tr>\n",
       "    <tr>\n",
       "      <th>4</th>\n",
       "      <td>images\\catholic_church_of_saint_joseph.png</td>\n",
       "      <td>True</td>\n",
       "      <td>unclear</td>\n",
       "      <td>catholic_church_of_saint_joseph</td>\n",
       "    </tr>\n",
       "  </tbody>\n",
       "</table>\n",
       "</div>"
      ],
      "text/plain": [
       "                                      example  changed    label  \\\n",
       "0      images\\abbeyfield_community_church.png     True  unclear   \n",
       "1       images\\all_saints_eight_ash_green.png     True   church   \n",
       "2        images\\ardleigh_methodist_church.png     True  unclear   \n",
       "3          images\\castle_methodist_church.png     True  unclear   \n",
       "4  images\\catholic_church_of_saint_joseph.png     True  unclear   \n",
       "\n",
       "                          filename  \n",
       "0      abbeyfield_community_church  \n",
       "1       all_saints_eight_ash_green  \n",
       "2        ardleigh_methodist_church  \n",
       "3          castle_methodist_church  \n",
       "4  catholic_church_of_saint_joseph  "
      ]
     },
     "execution_count": 4,
     "metadata": {},
     "output_type": "execute_result"
    }
   ],
   "source": [
    "annotations.head()"
   ]
  },
  {
   "cell_type": "code",
   "execution_count": 5,
   "id": "3a761584-1e30-4709-888f-78935e6eb05b",
   "metadata": {},
   "outputs": [
    {
     "data": {
      "text/plain": [
       "unclear    28\n",
       "church     21\n",
       "Name: label, dtype: int64"
      ]
     },
     "execution_count": 5,
     "metadata": {},
     "output_type": "execute_result"
    }
   ],
   "source": [
    "annotations['label'].value_counts()"
   ]
  },
  {
   "cell_type": "markdown",
   "id": "d8bf5e9d-58b4-4802-83d7-2536ae0d057e",
   "metadata": {},
   "source": [
    "Now we create a filename column (if not already present) to use as the merge key with the main places of worship dataframe:"
   ]
  },
  {
   "cell_type": "code",
   "execution_count": 6,
   "id": "77f24d19-5fc6-4522-b65a-32db760e6c89",
   "metadata": {},
   "outputs": [
    {
     "data": {
      "text/html": [
       "<div>\n",
       "<style scoped>\n",
       "    .dataframe tbody tr th:only-of-type {\n",
       "        vertical-align: middle;\n",
       "    }\n",
       "\n",
       "    .dataframe tbody tr th {\n",
       "        vertical-align: top;\n",
       "    }\n",
       "\n",
       "    .dataframe thead th {\n",
       "        text-align: right;\n",
       "    }\n",
       "</style>\n",
       "<table border=\"1\" class=\"dataframe\">\n",
       "  <thead>\n",
       "    <tr style=\"text-align: right;\">\n",
       "      <th></th>\n",
       "      <th>example</th>\n",
       "      <th>changed</th>\n",
       "      <th>label</th>\n",
       "      <th>filename</th>\n",
       "    </tr>\n",
       "  </thead>\n",
       "  <tbody>\n",
       "    <tr>\n",
       "      <th>0</th>\n",
       "      <td>images\\abbeyfield_community_church.png</td>\n",
       "      <td>True</td>\n",
       "      <td>unclear</td>\n",
       "      <td>abbeyfield_community_church</td>\n",
       "    </tr>\n",
       "    <tr>\n",
       "      <th>1</th>\n",
       "      <td>images\\all_saints_eight_ash_green.png</td>\n",
       "      <td>True</td>\n",
       "      <td>church</td>\n",
       "      <td>all_saints_eight_ash_green</td>\n",
       "    </tr>\n",
       "    <tr>\n",
       "      <th>2</th>\n",
       "      <td>images\\ardleigh_methodist_church.png</td>\n",
       "      <td>True</td>\n",
       "      <td>unclear</td>\n",
       "      <td>ardleigh_methodist_church</td>\n",
       "    </tr>\n",
       "    <tr>\n",
       "      <th>3</th>\n",
       "      <td>images\\castle_methodist_church.png</td>\n",
       "      <td>True</td>\n",
       "      <td>unclear</td>\n",
       "      <td>castle_methodist_church</td>\n",
       "    </tr>\n",
       "    <tr>\n",
       "      <th>4</th>\n",
       "      <td>images\\catholic_church_of_saint_joseph.png</td>\n",
       "      <td>True</td>\n",
       "      <td>unclear</td>\n",
       "      <td>catholic_church_of_saint_joseph</td>\n",
       "    </tr>\n",
       "  </tbody>\n",
       "</table>\n",
       "</div>"
      ],
      "text/plain": [
       "                                      example  changed    label  \\\n",
       "0      images\\abbeyfield_community_church.png     True  unclear   \n",
       "1       images\\all_saints_eight_ash_green.png     True   church   \n",
       "2        images\\ardleigh_methodist_church.png     True  unclear   \n",
       "3          images\\castle_methodist_church.png     True  unclear   \n",
       "4  images\\catholic_church_of_saint_joseph.png     True  unclear   \n",
       "\n",
       "                          filename  \n",
       "0      abbeyfield_community_church  \n",
       "1       all_saints_eight_ash_green  \n",
       "2        ardleigh_methodist_church  \n",
       "3          castle_methodist_church  \n",
       "4  catholic_church_of_saint_joseph  "
      ]
     },
     "execution_count": 6,
     "metadata": {},
     "output_type": "execute_result"
    }
   ],
   "source": [
    "annotations['filename'] = annotations['example'].apply(lambda x: x.split('\\\\')[1].split('.')[0])\n",
    "annotations.head()"
   ]
  },
  {
   "cell_type": "code",
   "execution_count": 7,
   "id": "85ed63bb-3f06-4e87-9be8-12ca96b18bc6",
   "metadata": {},
   "outputs": [
    {
     "data": {
      "text/html": [
       "<div>\n",
       "<style scoped>\n",
       "    .dataframe tbody tr th:only-of-type {\n",
       "        vertical-align: middle;\n",
       "    }\n",
       "\n",
       "    .dataframe tbody tr th {\n",
       "        vertical-align: top;\n",
       "    }\n",
       "\n",
       "    .dataframe thead th {\n",
       "        text-align: right;\n",
       "    }\n",
       "</style>\n",
       "<table border=\"1\" class=\"dataframe\">\n",
       "  <thead>\n",
       "    <tr style=\"text-align: right;\">\n",
       "      <th></th>\n",
       "      <th>id</th>\n",
       "      <th>tags.name</th>\n",
       "      <th>tags.denomination</th>\n",
       "      <th>tags.building</th>\n",
       "      <th>lat</th>\n",
       "      <th>lon</th>\n",
       "      <th>coords_imputed</th>\n",
       "      <th>filename</th>\n",
       "    </tr>\n",
       "  </thead>\n",
       "  <tbody>\n",
       "    <tr>\n",
       "      <th>0</th>\n",
       "      <td>144164756</td>\n",
       "      <td>St Margaret and St Catherine, Aldham</td>\n",
       "      <td>anglican</td>\n",
       "      <td>NaN</td>\n",
       "      <td>51.898162</td>\n",
       "      <td>0.785737</td>\n",
       "      <td>True</td>\n",
       "      <td>st_margaret_and_st_catherine_aldham</td>\n",
       "    </tr>\n",
       "    <tr>\n",
       "      <th>1</th>\n",
       "      <td>145482410</td>\n",
       "      <td>St Michael and All Angels, Copford</td>\n",
       "      <td>anglican</td>\n",
       "      <td>NaN</td>\n",
       "      <td>51.869317</td>\n",
       "      <td>0.809385</td>\n",
       "      <td>True</td>\n",
       "      <td>st_michael_and_all_angels_copford</td>\n",
       "    </tr>\n",
       "    <tr>\n",
       "      <th>2</th>\n",
       "      <td>35139156</td>\n",
       "      <td>St. Albright's Church</td>\n",
       "      <td>anglican</td>\n",
       "      <td>NaN</td>\n",
       "      <td>51.883674</td>\n",
       "      <td>0.817888</td>\n",
       "      <td>True</td>\n",
       "      <td>st_albright_s_church</td>\n",
       "    </tr>\n",
       "    <tr>\n",
       "      <th>3</th>\n",
       "      <td>146823677</td>\n",
       "      <td>All Saints, Eight Ash Green</td>\n",
       "      <td>anglican</td>\n",
       "      <td>NaN</td>\n",
       "      <td>51.896594</td>\n",
       "      <td>0.820112</td>\n",
       "      <td>True</td>\n",
       "      <td>all_saints_eight_ash_green</td>\n",
       "    </tr>\n",
       "    <tr>\n",
       "      <th>4</th>\n",
       "      <td>913980214</td>\n",
       "      <td>Eight Ash Green Methodist Church</td>\n",
       "      <td>NaN</td>\n",
       "      <td>NaN</td>\n",
       "      <td>51.895918</td>\n",
       "      <td>0.822322</td>\n",
       "      <td>False</td>\n",
       "      <td>eight_ash_green_methodist_church</td>\n",
       "    </tr>\n",
       "  </tbody>\n",
       "</table>\n",
       "</div>"
      ],
      "text/plain": [
       "          id                             tags.name tags.denomination  \\\n",
       "0  144164756  St Margaret and St Catherine, Aldham          anglican   \n",
       "1  145482410    St Michael and All Angels, Copford          anglican   \n",
       "2   35139156                 St. Albright's Church          anglican   \n",
       "3  146823677           All Saints, Eight Ash Green          anglican   \n",
       "4  913980214      Eight Ash Green Methodist Church               NaN   \n",
       "\n",
       "  tags.building        lat       lon  coords_imputed  \\\n",
       "0           NaN  51.898162  0.785737            True   \n",
       "1           NaN  51.869317  0.809385            True   \n",
       "2           NaN  51.883674  0.817888            True   \n",
       "3           NaN  51.896594  0.820112            True   \n",
       "4           NaN  51.895918  0.822322           False   \n",
       "\n",
       "                              filename  \n",
       "0  st_margaret_and_st_catherine_aldham  \n",
       "1    st_michael_and_all_angels_copford  \n",
       "2                 st_albright_s_church  \n",
       "3           all_saints_eight_ash_green  \n",
       "4     eight_ash_green_methodist_church  "
      ]
     },
     "execution_count": 7,
     "metadata": {},
     "output_type": "execute_result"
    }
   ],
   "source": [
    "places_of_worship = pd.read_csv('places_of_worship.csv')\n",
    "places_of_worship.head()"
   ]
  },
  {
   "cell_type": "code",
   "execution_count": 8,
   "id": "ed68532f-cd6d-46ad-a64e-f586906282c8",
   "metadata": {},
   "outputs": [],
   "source": [
    "places_of_worship = places_of_worship.merge(right=annotations[['label','filename']], on='filename')"
   ]
  },
  {
   "cell_type": "markdown",
   "id": "59a57ad0-fbc2-4bef-9d00-096e6687cc66",
   "metadata": {},
   "source": [
    "Finally, save the results:"
   ]
  },
  {
   "cell_type": "code",
   "execution_count": 9,
   "id": "403e5d57-2d08-47e9-a20a-56bbb4052260",
   "metadata": {},
   "outputs": [],
   "source": [
    "places_of_worship.to_csv('labelled_results.csv')"
   ]
  },
  {
   "cell_type": "markdown",
   "id": "1004306c-60e2-40a6-acae-e57824877cc1",
   "metadata": {},
   "source": [
    "The unclear results can be followed up and corrected manually."
   ]
  },
  {
   "cell_type": "markdown",
   "id": "61847240-0959-44c2-826f-d309dc38b39e",
   "metadata": {},
   "source": [
    "***"
   ]
  }
 ],
 "metadata": {
  "kernelspec": {
   "display_name": "churchtagger",
   "language": "python",
   "name": "churchtagger"
  },
  "language_info": {
   "codemirror_mode": {
    "name": "ipython",
    "version": 3
   },
   "file_extension": ".py",
   "mimetype": "text/x-python",
   "name": "python",
   "nbconvert_exporter": "python",
   "pygments_lexer": "ipython3",
   "version": "3.10.4"
  }
 },
 "nbformat": 4,
 "nbformat_minor": 5
}
