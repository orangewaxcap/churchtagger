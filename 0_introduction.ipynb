{
 "cells": [
  {
   "cell_type": "markdown",
   "id": "e42c8558-3ead-412c-84fb-a6d3a0b42f44",
   "metadata": {},
   "source": [
    "# Churchtagger"
   ]
  },
  {
   "cell_type": "markdown",
   "id": "db9639f3-e2a3-4049-bb1d-80542dbfe79c",
   "metadata": {},
   "source": [
    "This series of notebooks came from a chance discovery when poking around OpenStreetMap's __[Overpass API](https://overpass-turbo.eu/)__. When looking for churches in the town of Colchester, I found there were far fewer showing up than expected:"
   ]
  },
  {
   "cell_type": "markdown",
   "id": "4c654bae-2519-49d7-98be-24528b2c09fe",
   "metadata": {},
   "source": [
    "![Map view of Colchester in the United Kingdom with blue-ringed markers showing the position of churches in the OpenStreetMap database.](writeup_files/OSM_churches.PNG)"
   ]
  },
  {
   "cell_type": "markdown",
   "id": "ac53b64d-143b-4e44-8fbd-c1ddf9ce4023",
   "metadata": {},
   "source": [
    "Most of the outlying villages had no churches at all. This was definitely wrong, but a bit of rummaging revealed that an awful lot of churches around Colchester are listed as ```amenity:place_of_worship```, and their ```building``` value is either empty or the mysterious ```yes```. Running a new query for places of worship that aren't listed as churches gave the following results:"
   ]
  },
  {
   "cell_type": "markdown",
   "id": "ebc3e706-7b99-4f0b-befc-bd79291a174f",
   "metadata": {},
   "source": [
    "![Map view of Colchester in the United Kingdom with blue-ringed markers showing the position of places of worship in the OpenStreetMap database.](writeup_files/OSM_places_of_worship.PNG)"
   ]
  },
  {
   "cell_type": "markdown",
   "id": "10f87612-3caa-4fa2-983a-8cb7a7d2eb82",
   "metadata": {},
   "source": [
    "That's where the missing churches have gone! Some of the places of worship are going to be in converted premises rather than purpose-built churches, but a lot of these results are probably going to be church buildings that are centuries old.\n",
    "\n",
    "I decided to write a script to help identify potential \"ghost churches\": \n",
    "\n",
    "1. get the coordinates of all the places of worship in a given area that aren't listed as churches\n",
    "2. download a photo of each building\n",
    "3. bin them into \"church\" or \"not church\"\n",
    "4. (maybe) update OpenStreetMap with the improved tagging\n",
    "\n",
    "There are some very valid concerns around automated editing of OpenStreetMap, so I'll leave that as a stretch goal. But even the first three steps will be a fun exercise. Each step is covered in a separate notebook in this folder."
   ]
  },
  {
   "cell_type": "markdown",
   "id": "4f7dd9f4-f742-4ef9-8ab4-0e7407ea4047",
   "metadata": {
    "tags": []
   },
   "source": [
    "## Appendix: OpenStreetMap queries"
   ]
  },
  {
   "cell_type": "markdown",
   "id": "b3a7fbde-6211-4289-8cca-8f87dd61c441",
   "metadata": {},
   "source": [
    "These were assembled with the Overpass Turbo wizard and then hacked around until they gave me what I was looking for."
   ]
  },
  {
   "cell_type": "markdown",
   "id": "ae1c1c09-79d5-4bb4-9a62-0ea9b3322ad7",
   "metadata": {},
   "source": [
    "### Churches"
   ]
  },
  {
   "cell_type": "raw",
   "id": "e22e1dbb-a2aa-4550-807a-5c93180e9ee8",
   "metadata": {},
   "source": [
    "[out:json][timeout:25];\n",
    "// gather results\n",
    "(\n",
    "  // query part for: “church”\n",
    "  node[\"amenity\"=\"place_of_worship\"][\"religion\"=\"christian\"][\"building\"!=\"church\"]({{bbox}});\n",
    "  way[\"amenity\"=\"place_of_worship\"][\"religion\"=\"christian\"][\"building\"!=\"church\"]({{bbox}});\n",
    "  relation[\"amenity\"=\"place_of_worship\"][\"religion\"=\"christian\"][\"building\"!=\"church\"]({{bbox}});\n",
    ");\n",
    "// print results\n",
    "\n",
    "out body;\n",
    ">;\n",
    "out skel qt;"
   ]
  },
  {
   "cell_type": "markdown",
   "id": "9ed197e1-fc8a-419a-88af-f48d0a1d31a3",
   "metadata": {},
   "source": [
    "### Places of worship not listed as churches"
   ]
  },
  {
   "cell_type": "raw",
   "id": "b21a85bc-6d56-4f77-b09a-938e67d15f0d",
   "metadata": {},
   "source": [
    "[out:json][timeout:25];\n",
    "// gather results\n",
    "(\n",
    "  // query part for: “church”\n",
    "  node[\"building\"=\"church\"]({{bbox}});\n",
    "  way[\"building\"=\"church\"]({{bbox}});\n",
    "  relation[\"building\"=\"church\"]({{bbox}});\n",
    ");\n",
    "// print results\n",
    "out body;\n",
    ">;\n",
    "out skel qt;"
   ]
  },
  {
   "cell_type": "markdown",
   "id": "1e516190-f38d-4976-9f30-ce87dc9d2769",
   "metadata": {},
   "source": [
    "***"
   ]
  }
 ],
 "metadata": {
  "kernelspec": {
   "display_name": "churchtagger",
   "language": "python",
   "name": "churchtagger"
  },
  "language_info": {
   "codemirror_mode": {
    "name": "ipython",
    "version": 3
   },
   "file_extension": ".py",
   "mimetype": "text/x-python",
   "name": "python",
   "nbconvert_exporter": "python",
   "pygments_lexer": "ipython3",
   "version": "3.10.4"
  }
 },
 "nbformat": 4,
 "nbformat_minor": 5
}
